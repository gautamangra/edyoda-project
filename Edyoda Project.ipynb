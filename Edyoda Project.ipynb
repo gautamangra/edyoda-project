{
 "cells": [
  {
   "cell_type": "code",
   "execution_count": 1,
   "metadata": {},
   "outputs": [],
   "source": [
    "import os\n",
    "import json\n",
    "import click"
   ]
  },
  {
   "cell_type": "code",
   "execution_count": null,
   "metadata": {},
   "outputs": [
    {
     "name": "stdout",
     "output_type": "stream",
     "text": [
      "\n",
      "**Hey Welcome to Edyoda **\n",
      "\n"
     ]
    }
   ],
   "source": [
    "import sqlite3,time\n",
    "\n",
    "def login():\n",
    "    while True:\n",
    "        username = input(\"Please enter username :\")\n",
    "        password = input(\"please enter password :\")\n",
    "        with sqlite3.connect(\"Quiz.db\") as db: \n",
    "            cursor=db.cursor()    \n",
    "        find_user=(\"SELECT * FROM user_info WHERE username=? and password=?\")\n",
    "        cursor.execute(find_user,[(username),(password)])\n",
    "        result=cursor.fetchall()\n",
    "\n",
    "        if result:\n",
    "            for i in result:\n",
    "                print(\"Welcome \"+i[2])\n",
    "            break\n",
    "        \n",
    "        \n",
    "        else:\n",
    "            print(\"Username and Password are not recognised\")\n",
    "            again=input(\"Do you want to try again (y/n)\")\n",
    "            if again.lower()=='n':\n",
    "                print(\"GoodBye\")\n",
    "                time.sleep(1)\n",
    "                break\n",
    "\n",
    "def new_user():\n",
    "    found=1\n",
    "    while found==1:\n",
    "        username=input(\"Please enter username :\")            \n",
    "        with sqlite3.connect(\"Quiz.db\") as db:\n",
    "            cursor=db.cursor()\n",
    "        find_user=(\"SELECT * FROM user_info where username = ?\")\n",
    "        cursor.execute(find_user,[(username)])\n",
    "\n",
    "        if cursor.fetchall():\n",
    "            print(\"username taken ,pleaes try again\")\n",
    "        \n",
    "        else:\n",
    "            found=0\n",
    "\n",
    "    firstname=input(\"Please enter firstname :\")\n",
    "    lastname=input(\"Please enter lastname :\")\n",
    "    emailid = input(\"Please enter your email-Id:\")\n",
    "    mobileno = input(\"Please enter your mobileNo:\")\n",
    "    password=input(\"Please enter password :\")\n",
    "    password1=input(\"Please reenter password :\")\n",
    "    while password !=password1:\n",
    "        print(\"Incorrect password\")\n",
    "        password=input(\"Please enter password :\")\n",
    "        password1=input(\"Please reenter password :\")\n",
    "    insert_data=\"\"\"\n",
    "    INSERT INTO user_info(username,firstname,lastname,password)\n",
    "    VALUES(?,?,?,?)  \n",
    "    \"\"\"\n",
    "    cursor.execute(insert_data,[(username),(firstname),(lastname),(password)])  \n",
    "    db.commit()\n",
    "    print(\"Account created successfully\")\n",
    "\n",
    "\n",
    "def menu():\n",
    "    print(\"\\n**Hey Welcome to Edyoda **\\n\")\n",
    "    while True:\n",
    "        choice=input(\"What would you like to do ? (1.Create Account /2.Login /3.Exit) :\")\n",
    "        if choice==\"1\":\n",
    "             new_user()\n",
    "        elif choice==\"2\":\n",
    "             login()\n",
    "        elif choice==\"3\":\n",
    "            print(\"GoodBye\")\n",
    "            break\n",
    "        else:\n",
    "            print(\"Command not recognised\")\n",
    "\n",
    "def menu_1():\n",
    "            l = input(\"Enter a module\\nPress A/a for Assignment, Q/q for quiz, S/s for live session\\n\")\n",
    "            if l==\"A\" or l==\"a\":\n",
    "                menu_1.module = \"Assignment\"\n",
    "            elif l==\"Q\" or l==\"q\":\n",
    "                menu_1.level = \"quiz\"\n",
    "            elif l==\"S\" or l==\"s\":\n",
    "                menu_1.level = \"live session\"\n",
    "            else:\n",
    "                print(\"Invalid option!\\nPlease try again\\n\")\n",
    "            \n",
    "\n",
    "menu()\n",
    "#menu()\n",
    "menu_1()"
   ]
  },
  {
   "cell_type": "code",
   "execution_count": null,
   "metadata": {},
   "outputs": [],
   "source": []
  },
  {
   "cell_type": "code",
   "execution_count": null,
   "metadata": {},
   "outputs": [],
   "source": []
  },
  {
   "cell_type": "code",
   "execution_count": null,
   "metadata": {},
   "outputs": [],
   "source": []
  },
  {
   "cell_type": "code",
   "execution_count": null,
   "metadata": {},
   "outputs": [],
   "source": []
  },
  {
   "cell_type": "code",
   "execution_count": null,
   "metadata": {},
   "outputs": [],
   "source": []
  }
 ],
 "metadata": {
  "kernelspec": {
   "display_name": "Python 3",
   "language": "python",
   "name": "python3"
  },
  "language_info": {
   "codemirror_mode": {
    "name": "ipython",
    "version": 3
   },
   "file_extension": ".py",
   "mimetype": "text/x-python",
   "name": "python",
   "nbconvert_exporter": "python",
   "pygments_lexer": "ipython3",
   "version": "3.8.5"
  }
 },
 "nbformat": 4,
 "nbformat_minor": 4
}
